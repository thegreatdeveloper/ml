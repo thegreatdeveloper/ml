{
 "cells": [
  {
   "cell_type": "code",
   "execution_count": null,
   "metadata": {},
   "outputs": [],
   "source": [
    "\n",
    "import pandas as pd \n",
    "import numpy as np \n",
    "import matplotlib. pyplot as plt \n",
    "import seaborn as sns\n",
    "\n",
    "from sklearn.model_selection import train_test_split\n",
    "from sklearn.ensemble import AdaBoostClassifier, GradientBoostingClassifier, VotingClassifier \n",
    "from sklearn.metrics import accuracy_score, classification_report, confusion_matrix\n",
    "\n",
    "from xgboost import XGBClassifier\n",
    "\n",
    "from sklearn.preprocessing import LabelEncoder"
   ]
  },
  {
   "cell_type": "code",
   "execution_count": null,
   "metadata": {},
   "outputs": [],
   "source": [
    "# Load \n",
    "url = \"Iris.csv\"\n",
    "iris_data = pd.read_csv(url)\n",
    "\n",
    "iris_data.head ()"
   ]
  },
  {
   "cell_type": "code",
   "execution_count": null,
   "metadata": {},
   "outputs": [],
   "source": [
    "iris_data.isnull().sum()"
   ]
  },
  {
   "cell_type": "code",
   "execution_count": null,
   "metadata": {},
   "outputs": [],
   "source": [
    "\n",
    "le = LabelEncoder ()\n",
    "iris_data['Species'] = le.fit_transform(iris_data['Species'])\n",
    "\n",
    "iris_data[ 'Species'].unique ()"
   ]
  },
  {
   "cell_type": "code",
   "execution_count": null,
   "metadata": {},
   "outputs": [],
   "source": [
    "X = iris_data.drop('Species', axis=1)\n",
    "y = iris_data['Species']\n",
    "\n",
    "X_train, X_test, y_train, y_test = train_test_split(X, y, test_size=0.2, random_state=42, stratify=y)"
   ]
  },
  {
   "cell_type": "code",
   "execution_count": null,
   "metadata": {},
   "outputs": [],
   "source": [
    "#AdaBoost\n",
    "\n",
    "ada_model = AdaBoostClassifier(n_estimators=100, random_state=42)\n",
    "ada_model.fit(X_train, y_train)\n",
    "\n",
    "y_pred_ada = ada_model.predict(X_test)"
   ]
  },
  {
   "cell_type": "code",
   "execution_count": null,
   "metadata": {},
   "outputs": [],
   "source": [
    "#Gradientboost\n",
    "gb_model = GradientBoostingClassifier(n_estimators=100, random_state=42)\n",
    "gb_model.fit(X_train, y_train)\n",
    "\n",
    "y_pred_gb = gb_model.predict(X_test)"
   ]
  },
  {
   "cell_type": "code",
   "execution_count": null,
   "metadata": {},
   "outputs": [],
   "source": [
    "# XBoost\n",
    "xgb_model = XGBClassifier(n_estimators=100, use_label_encoder=False, eval_metric='mlogloss', random_state=42)\n",
    "xgb_model.fit(X_train, y_train)\n",
    "\n",
    "y_pred_xgb = xgb_model.predict(X_test)"
   ]
  },
  {
   "cell_type": "code",
   "execution_count": null,
   "metadata": {},
   "outputs": [],
   "source": [
    "# Evaluate AdaBoostCls\n",
    "ada_accuracy = accuracy_score(y_test, y_pred_ada)\n",
    "ada_report = classification_report (y_test, y_pred_ada)\n",
    "ada_cm = confusion_matrix(y_test, y_pred_ada)\n",
    "print(f\"AdaBoost Accuracy: {ada_accuracy:.2f}\")\n",
    "print(\"AdaBoost Classification Report:\\n\", ada_report)\n",
    "print (\"AdaBoost Confusion Matrix:\\n\", ada_cm)"
   ]
  },
  {
   "cell_type": "code",
   "execution_count": null,
   "metadata": {},
   "outputs": [],
   "source": [
    "# Evaluate Gb cls\n",
    "gb_accuracy = accuracy_score (y_test, y_pred_gb)\n",
    "gb_report = classification_report(y_test, y_pred_gb)\n",
    "gb_cm = confusion_matrix(y_test, y_pred_gb)\n",
    "print(f\"Gradient Boosting Accuracy: {gb_accuracy:.2f}\")\n",
    "print(\"Gradient Boosting Classification Report:\\n\", gb_report)\n",
    "print (\"Gradient Boosting Confusion Matrix:\\n\", gb_cm)"
   ]
  },
  {
   "cell_type": "code",
   "execution_count": null,
   "metadata": {},
   "outputs": [],
   "source": [
    "# Evaluate XGBoostcls\n",
    "xgb_accuracy = accuracy_score(y_test, y_pred_xgb)\n",
    "xgb_report = classification_report(y_test, y_pred_xgb)\n",
    "xgb_cm = confusion_matrix(y_test, y_pred_xgb)\n",
    "print(f\"XGBoost Accuracy: {xgb_accuracy:.2f}\")\n",
    "print(\"XGBoost Classification Report:\\n\", xgb_report)\n",
    "print(\"XGBoost Confusion Matrix:\\n\", xgb_cm)"
   ]
  },
  {
   "cell_type": "code",
   "execution_count": null,
   "metadata": {},
   "outputs": [],
   "source": [
    "\n",
    "# Comparison\n",
    "\n",
    "print (f\"AdaBoost Accuracy: {ada_accuracy: 2f}\")\n",
    "\n",
    "print(f\"Gradient Boosting Accuracy: {gb_accuracy:.2f}\")\n",
    "\n",
    "print(f\"XGBoost Accuracy: {xgb_accuracy:.2f}\")"
   ]
  }
 ],
 "metadata": {
  "kernelspec": {
   "display_name": "Python 3",
   "language": "python",
   "name": "python3"
  },
  "language_info": {
   "codemirror_mode": {
    "name": "ipython",
    "version": 3
   },
   "file_extension": ".py",
   "mimetype": "text/x-python",
   "name": "python",
   "nbconvert_exporter": "python",
   "pygments_lexer": "ipython3",
   "version": "3.12.4"
  }
 },
 "nbformat": 4,
 "nbformat_minor": 2
}
