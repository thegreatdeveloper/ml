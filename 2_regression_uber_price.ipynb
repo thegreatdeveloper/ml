{
 "cells": [
  {
   "cell_type": "code",
   "execution_count": 1,
   "metadata": {},
   "outputs": [],
   "source": [
    "import pandas as pd\n",
    "import numpy as np\n",
    "import matplotlib.pyplot as plt\n",
    "import seaborn as sns\n",
    "\n",
    "from sklearn.model_selection import train_test_split\n",
    "from sklearn.preprocessing import StandardScaler\n",
    "from sklearn.linear_model import LinearRegression, Ridge, Lasso\n",
    "from sklearn.metrics import r2_score, mean_squared_error\n",
    "from sklearn.impute import SimpleImputer"
   ]
  },
  {
   "cell_type": "code",
   "execution_count": 2,
   "metadata": {},
   "outputs": [
    {
     "data": {
      "text/html": [
       "<div>\n",
       "<style scoped>\n",
       "    .dataframe tbody tr th:only-of-type {\n",
       "        vertical-align: middle;\n",
       "    }\n",
       "\n",
       "    .dataframe tbody tr th {\n",
       "        vertical-align: top;\n",
       "    }\n",
       "\n",
       "    .dataframe thead th {\n",
       "        text-align: right;\n",
       "    }\n",
       "</style>\n",
       "<table border=\"1\" class=\"dataframe\">\n",
       "  <thead>\n",
       "    <tr style=\"text-align: right;\">\n",
       "      <th></th>\n",
       "      <th>Unnamed: 0</th>\n",
       "      <th>key</th>\n",
       "      <th>fare_amount</th>\n",
       "      <th>pickup_datetime</th>\n",
       "      <th>pickup_longitude</th>\n",
       "      <th>pickup_latitude</th>\n",
       "      <th>dropoff_longitude</th>\n",
       "      <th>dropoff_latitude</th>\n",
       "      <th>passenger_count</th>\n",
       "    </tr>\n",
       "  </thead>\n",
       "  <tbody>\n",
       "    <tr>\n",
       "      <th>0</th>\n",
       "      <td>24238194</td>\n",
       "      <td>2015-05-07 19:52:06.0000003</td>\n",
       "      <td>7.5</td>\n",
       "      <td>2015-05-07 19:52:06 UTC</td>\n",
       "      <td>-73.999817</td>\n",
       "      <td>40.738354</td>\n",
       "      <td>-73.999512</td>\n",
       "      <td>40.723217</td>\n",
       "      <td>1</td>\n",
       "    </tr>\n",
       "    <tr>\n",
       "      <th>1</th>\n",
       "      <td>27835199</td>\n",
       "      <td>2009-07-17 20:04:56.0000002</td>\n",
       "      <td>7.7</td>\n",
       "      <td>2009-07-17 20:04:56 UTC</td>\n",
       "      <td>-73.994355</td>\n",
       "      <td>40.728225</td>\n",
       "      <td>-73.994710</td>\n",
       "      <td>40.750325</td>\n",
       "      <td>1</td>\n",
       "    </tr>\n",
       "    <tr>\n",
       "      <th>2</th>\n",
       "      <td>44984355</td>\n",
       "      <td>2009-08-24 21:45:00.00000061</td>\n",
       "      <td>12.9</td>\n",
       "      <td>2009-08-24 21:45:00 UTC</td>\n",
       "      <td>-74.005043</td>\n",
       "      <td>40.740770</td>\n",
       "      <td>-73.962565</td>\n",
       "      <td>40.772647</td>\n",
       "      <td>1</td>\n",
       "    </tr>\n",
       "  </tbody>\n",
       "</table>\n",
       "</div>"
      ],
      "text/plain": [
       "   Unnamed: 0                           key  fare_amount  \\\n",
       "0    24238194   2015-05-07 19:52:06.0000003          7.5   \n",
       "1    27835199   2009-07-17 20:04:56.0000002          7.7   \n",
       "2    44984355  2009-08-24 21:45:00.00000061         12.9   \n",
       "\n",
       "           pickup_datetime  pickup_longitude  pickup_latitude  \\\n",
       "0  2015-05-07 19:52:06 UTC        -73.999817        40.738354   \n",
       "1  2009-07-17 20:04:56 UTC        -73.994355        40.728225   \n",
       "2  2009-08-24 21:45:00 UTC        -74.005043        40.740770   \n",
       "\n",
       "   dropoff_longitude  dropoff_latitude  passenger_count  \n",
       "0         -73.999512         40.723217                1  \n",
       "1         -73.994710         40.750325                1  \n",
       "2         -73.962565         40.772647                1  "
      ]
     },
     "execution_count": 2,
     "metadata": {},
     "output_type": "execute_result"
    }
   ],
   "source": [
    "# Load the dataset\n",
    "df = pd.read_csv(\"uber.csv\")\n",
    "\n",
    "# view dataset\n",
    "df.head(3)"
   ]
  },
  {
   "cell_type": "code",
   "execution_count": 3,
   "metadata": {},
   "outputs": [
    {
     "data": {
      "text/plain": [
       "(200000, 9)"
      ]
     },
     "execution_count": 3,
     "metadata": {},
     "output_type": "execute_result"
    }
   ],
   "source": [
    "df.shape"
   ]
  },
  {
   "cell_type": "code",
   "execution_count": 4,
   "metadata": {},
   "outputs": [
    {
     "name": "stdout",
     "output_type": "stream",
     "text": [
      "<class 'pandas.core.frame.DataFrame'>\n",
      "RangeIndex: 200000 entries, 0 to 199999\n",
      "Data columns (total 9 columns):\n",
      " #   Column             Non-Null Count   Dtype  \n",
      "---  ------             --------------   -----  \n",
      " 0   Unnamed: 0         200000 non-null  int64  \n",
      " 1   key                200000 non-null  object \n",
      " 2   fare_amount        200000 non-null  float64\n",
      " 3   pickup_datetime    200000 non-null  object \n",
      " 4   pickup_longitude   200000 non-null  float64\n",
      " 5   pickup_latitude    200000 non-null  float64\n",
      " 6   dropoff_longitude  199999 non-null  float64\n",
      " 7   dropoff_latitude   199999 non-null  float64\n",
      " 8   passenger_count    200000 non-null  int64  \n",
      "dtypes: float64(5), int64(2), object(2)\n",
      "memory usage: 13.7+ MB\n"
     ]
    }
   ],
   "source": [
    "df.info()"
   ]
  },
  {
   "cell_type": "code",
   "execution_count": 5,
   "metadata": {},
   "outputs": [
    {
     "data": {
      "text/html": [
       "<div>\n",
       "<style scoped>\n",
       "    .dataframe tbody tr th:only-of-type {\n",
       "        vertical-align: middle;\n",
       "    }\n",
       "\n",
       "    .dataframe tbody tr th {\n",
       "        vertical-align: top;\n",
       "    }\n",
       "\n",
       "    .dataframe thead th {\n",
       "        text-align: right;\n",
       "    }\n",
       "</style>\n",
       "<table border=\"1\" class=\"dataframe\">\n",
       "  <thead>\n",
       "    <tr style=\"text-align: right;\">\n",
       "      <th></th>\n",
       "      <th>Unnamed: 0</th>\n",
       "      <th>key</th>\n",
       "      <th>fare_amount</th>\n",
       "      <th>pickup_datetime</th>\n",
       "      <th>pickup_longitude</th>\n",
       "      <th>pickup_latitude</th>\n",
       "      <th>dropoff_longitude</th>\n",
       "      <th>dropoff_latitude</th>\n",
       "      <th>passenger_count</th>\n",
       "    </tr>\n",
       "  </thead>\n",
       "  <tbody>\n",
       "    <tr>\n",
       "      <th>22695</th>\n",
       "      <td>26926467</td>\n",
       "      <td>2009-05-04 19:17:53.0000005</td>\n",
       "      <td>4.9</td>\n",
       "      <td>2009-05-04 19:17:53 UTC</td>\n",
       "      <td>-73.967279</td>\n",
       "      <td>40.788138</td>\n",
       "      <td>-73.979455</td>\n",
       "      <td>40.784712</td>\n",
       "      <td>1</td>\n",
       "    </tr>\n",
       "    <tr>\n",
       "      <th>127608</th>\n",
       "      <td>5838404</td>\n",
       "      <td>2009-09-16 18:12:38.0000004</td>\n",
       "      <td>16.5</td>\n",
       "      <td>2009-09-16 18:12:38 UTC</td>\n",
       "      <td>-73.957783</td>\n",
       "      <td>40.767585</td>\n",
       "      <td>-74.007981</td>\n",
       "      <td>40.740482</td>\n",
       "      <td>1</td>\n",
       "    </tr>\n",
       "    <tr>\n",
       "      <th>30790</th>\n",
       "      <td>46484777</td>\n",
       "      <td>2009-07-08 01:14:00.00000022</td>\n",
       "      <td>27.7</td>\n",
       "      <td>2009-07-08 01:14:00 UTC</td>\n",
       "      <td>-73.874335</td>\n",
       "      <td>40.774143</td>\n",
       "      <td>-74.005853</td>\n",
       "      <td>40.706423</td>\n",
       "      <td>1</td>\n",
       "    </tr>\n",
       "    <tr>\n",
       "      <th>134665</th>\n",
       "      <td>9252651</td>\n",
       "      <td>2009-08-20 00:40:00.00000049</td>\n",
       "      <td>6.1</td>\n",
       "      <td>2009-08-20 00:40:00 UTC</td>\n",
       "      <td>-73.991862</td>\n",
       "      <td>40.726078</td>\n",
       "      <td>-74.000820</td>\n",
       "      <td>40.733877</td>\n",
       "      <td>1</td>\n",
       "    </tr>\n",
       "    <tr>\n",
       "      <th>111716</th>\n",
       "      <td>23748034</td>\n",
       "      <td>2011-02-02 17:19:00.00000075</td>\n",
       "      <td>20.1</td>\n",
       "      <td>2011-02-02 17:19:00 UTC</td>\n",
       "      <td>-74.011522</td>\n",
       "      <td>40.701752</td>\n",
       "      <td>-73.954298</td>\n",
       "      <td>40.773700</td>\n",
       "      <td>1</td>\n",
       "    </tr>\n",
       "  </tbody>\n",
       "</table>\n",
       "</div>"
      ],
      "text/plain": [
       "        Unnamed: 0                           key  fare_amount  \\\n",
       "22695     26926467   2009-05-04 19:17:53.0000005          4.9   \n",
       "127608     5838404   2009-09-16 18:12:38.0000004         16.5   \n",
       "30790     46484777  2009-07-08 01:14:00.00000022         27.7   \n",
       "134665     9252651  2009-08-20 00:40:00.00000049          6.1   \n",
       "111716    23748034  2011-02-02 17:19:00.00000075         20.1   \n",
       "\n",
       "                pickup_datetime  pickup_longitude  pickup_latitude  \\\n",
       "22695   2009-05-04 19:17:53 UTC        -73.967279        40.788138   \n",
       "127608  2009-09-16 18:12:38 UTC        -73.957783        40.767585   \n",
       "30790   2009-07-08 01:14:00 UTC        -73.874335        40.774143   \n",
       "134665  2009-08-20 00:40:00 UTC        -73.991862        40.726078   \n",
       "111716  2011-02-02 17:19:00 UTC        -74.011522        40.701752   \n",
       "\n",
       "        dropoff_longitude  dropoff_latitude  passenger_count  \n",
       "22695          -73.979455         40.784712                1  \n",
       "127608         -74.007981         40.740482                1  \n",
       "30790          -74.005853         40.706423                1  \n",
       "134665         -74.000820         40.733877                1  \n",
       "111716         -73.954298         40.773700                1  "
      ]
     },
     "execution_count": 5,
     "metadata": {},
     "output_type": "execute_result"
    }
   ],
   "source": [
    "df.sample(5)"
   ]
  },
  {
   "cell_type": "code",
   "execution_count": null,
   "metadata": {},
   "outputs": [],
   "source": []
  },
  {
   "cell_type": "code",
   "execution_count": 6,
   "metadata": {},
   "outputs": [],
   "source": [
    "df.drop(columns=[\"Unnamed: 0\", 'pickup_datetime'], inplace=True)"
   ]
  },
  {
   "cell_type": "code",
   "execution_count": 7,
   "metadata": {},
   "outputs": [
    {
     "data": {
      "text/plain": [
       "key                  0.0000\n",
       "fare_amount          0.0000\n",
       "pickup_longitude     0.0000\n",
       "pickup_latitude      0.0000\n",
       "dropoff_longitude    0.0005\n",
       "dropoff_latitude     0.0005\n",
       "passenger_count      0.0000\n",
       "dtype: float64"
      ]
     },
     "execution_count": 7,
     "metadata": {},
     "output_type": "execute_result"
    }
   ],
   "source": [
    "df.isnull().sum()*100 /len(df)"
   ]
  },
  {
   "cell_type": "code",
   "execution_count": 8,
   "metadata": {},
   "outputs": [],
   "source": [
    "df.dropna(axis=0, inplace=True)"
   ]
  },
  {
   "cell_type": "code",
   "execution_count": 9,
   "metadata": {},
   "outputs": [
    {
     "data": {
      "text/plain": [
       "key                  0\n",
       "fare_amount          0\n",
       "pickup_longitude     0\n",
       "pickup_latitude      0\n",
       "dropoff_longitude    0\n",
       "dropoff_latitude     0\n",
       "passenger_count      0\n",
       "dtype: int64"
      ]
     },
     "execution_count": 9,
     "metadata": {},
     "output_type": "execute_result"
    }
   ],
   "source": [
    "df.isnull().sum()"
   ]
  },
  {
   "cell_type": "code",
   "execution_count": 10,
   "metadata": {},
   "outputs": [
    {
     "data": {
      "text/plain": [
       "(199999, 7)"
      ]
     },
     "execution_count": 10,
     "metadata": {},
     "output_type": "execute_result"
    }
   ],
   "source": [
    "df.shape"
   ]
  },
  {
   "cell_type": "code",
   "execution_count": 11,
   "metadata": {},
   "outputs": [],
   "source": [
    "df[\"key\"] = pd.to_datetime(df[\"key\"])\n",
    "df[ \"weekday\"] = df[\"key\"].dt.weekday"
   ]
  },
  {
   "cell_type": "code",
   "execution_count": 12,
   "metadata": {},
   "outputs": [],
   "source": [
    "lat_to_km = 111\n",
    "long_to_km = 85"
   ]
  },
  {
   "cell_type": "code",
   "execution_count": 13,
   "metadata": {},
   "outputs": [],
   "source": [
    "df['manhattan_distance_km'] = (df['pickup_latitude'] - df['dropoff_latitude']).abs() * lat_to_km +  (df['pickup_longitude'] - df['dropoff_longitude']).abs() * long_to_km"
   ]
  },
  {
   "cell_type": "code",
   "execution_count": 15,
   "metadata": {},
   "outputs": [
    {
     "data": {
      "text/html": [
       "<div>\n",
       "<style scoped>\n",
       "    .dataframe tbody tr th:only-of-type {\n",
       "        vertical-align: middle;\n",
       "    }\n",
       "\n",
       "    .dataframe tbody tr th {\n",
       "        vertical-align: top;\n",
       "    }\n",
       "\n",
       "    .dataframe thead th {\n",
       "        text-align: right;\n",
       "    }\n",
       "</style>\n",
       "<table border=\"1\" class=\"dataframe\">\n",
       "  <thead>\n",
       "    <tr style=\"text-align: right;\">\n",
       "      <th></th>\n",
       "      <th>key</th>\n",
       "      <th>fare_amount</th>\n",
       "      <th>pickup_longitude</th>\n",
       "      <th>pickup_latitude</th>\n",
       "      <th>dropoff_longitude</th>\n",
       "      <th>dropoff_latitude</th>\n",
       "      <th>passenger_count</th>\n",
       "      <th>weekday</th>\n",
       "      <th>manhattan_distance_km</th>\n",
       "    </tr>\n",
       "  </thead>\n",
       "  <tbody>\n",
       "    <tr>\n",
       "      <th>119331</th>\n",
       "      <td>2010-10-10 00:42:57.000000400</td>\n",
       "      <td>14.1</td>\n",
       "      <td>-73.965912</td>\n",
       "      <td>40.768634</td>\n",
       "      <td>-73.997906</td>\n",
       "      <td>40.727875</td>\n",
       "      <td>1</td>\n",
       "      <td>6</td>\n",
       "      <td>7.243739</td>\n",
       "    </tr>\n",
       "    <tr>\n",
       "      <th>38634</th>\n",
       "      <td>2011-08-07 16:15:08.000000300</td>\n",
       "      <td>10.5</td>\n",
       "      <td>-73.984150</td>\n",
       "      <td>40.745949</td>\n",
       "      <td>-74.009319</td>\n",
       "      <td>40.715349</td>\n",
       "      <td>2</td>\n",
       "      <td>6</td>\n",
       "      <td>5.535965</td>\n",
       "    </tr>\n",
       "    <tr>\n",
       "      <th>139706</th>\n",
       "      <td>2012-09-14 14:29:56.000000100</td>\n",
       "      <td>12.5</td>\n",
       "      <td>-73.973346</td>\n",
       "      <td>40.763738</td>\n",
       "      <td>-74.005057</td>\n",
       "      <td>40.751689</td>\n",
       "      <td>1</td>\n",
       "      <td>4</td>\n",
       "      <td>4.032874</td>\n",
       "    </tr>\n",
       "    <tr>\n",
       "      <th>111222</th>\n",
       "      <td>2012-02-03 14:59:00.000000430</td>\n",
       "      <td>12.1</td>\n",
       "      <td>-73.995107</td>\n",
       "      <td>40.725415</td>\n",
       "      <td>-73.983562</td>\n",
       "      <td>40.761910</td>\n",
       "      <td>1</td>\n",
       "      <td>4</td>\n",
       "      <td>5.032270</td>\n",
       "    </tr>\n",
       "  </tbody>\n",
       "</table>\n",
       "</div>"
      ],
      "text/plain": [
       "                                 key  fare_amount  pickup_longitude  \\\n",
       "119331 2010-10-10 00:42:57.000000400         14.1        -73.965912   \n",
       "38634  2011-08-07 16:15:08.000000300         10.5        -73.984150   \n",
       "139706 2012-09-14 14:29:56.000000100         12.5        -73.973346   \n",
       "111222 2012-02-03 14:59:00.000000430         12.1        -73.995107   \n",
       "\n",
       "        pickup_latitude  dropoff_longitude  dropoff_latitude  passenger_count  \\\n",
       "119331        40.768634         -73.997906         40.727875                1   \n",
       "38634         40.745949         -74.009319         40.715349                2   \n",
       "139706        40.763738         -74.005057         40.751689                1   \n",
       "111222        40.725415         -73.983562         40.761910                1   \n",
       "\n",
       "        weekday  manhattan_distance_km  \n",
       "119331        6               7.243739  \n",
       "38634         6               5.535965  \n",
       "139706        4               4.032874  \n",
       "111222        4               5.032270  "
      ]
     },
     "execution_count": 15,
     "metadata": {},
     "output_type": "execute_result"
    }
   ],
   "source": [
    "df.sample(4)"
   ]
  },
  {
   "cell_type": "code",
   "execution_count": 17,
   "metadata": {},
   "outputs": [
    {
     "data": {
      "text/html": [
       "<div>\n",
       "<style scoped>\n",
       "    .dataframe tbody tr th:only-of-type {\n",
       "        vertical-align: middle;\n",
       "    }\n",
       "\n",
       "    .dataframe tbody tr th {\n",
       "        vertical-align: top;\n",
       "    }\n",
       "\n",
       "    .dataframe thead th {\n",
       "        text-align: right;\n",
       "    }\n",
       "</style>\n",
       "<table border=\"1\" class=\"dataframe\">\n",
       "  <thead>\n",
       "    <tr style=\"text-align: right;\">\n",
       "      <th></th>\n",
       "      <th>key</th>\n",
       "      <th>fare_amount</th>\n",
       "      <th>pickup_longitude</th>\n",
       "      <th>pickup_latitude</th>\n",
       "      <th>dropoff_longitude</th>\n",
       "      <th>dropoff_latitude</th>\n",
       "      <th>passenger_count</th>\n",
       "      <th>weekday</th>\n",
       "      <th>manhattan_distance_km</th>\n",
       "    </tr>\n",
       "  </thead>\n",
       "  <tbody>\n",
       "    <tr>\n",
       "      <th>count</th>\n",
       "      <td>199999</td>\n",
       "      <td>199999.000000</td>\n",
       "      <td>199999.000000</td>\n",
       "      <td>199999.000000</td>\n",
       "      <td>199999.000000</td>\n",
       "      <td>199999.000000</td>\n",
       "      <td>199999.000000</td>\n",
       "      <td>199999.000000</td>\n",
       "      <td>199999.000000</td>\n",
       "    </tr>\n",
       "    <tr>\n",
       "      <th>mean</th>\n",
       "      <td>2012-03-22 14:58:56.889214720</td>\n",
       "      <td>11.359892</td>\n",
       "      <td>-72.527631</td>\n",
       "      <td>39.935881</td>\n",
       "      <td>-72.525292</td>\n",
       "      <td>39.923890</td>\n",
       "      <td>1.684543</td>\n",
       "      <td>3.048435</td>\n",
       "      <td>31.054609</td>\n",
       "    </tr>\n",
       "    <tr>\n",
       "      <th>min</th>\n",
       "      <td>2009-01-01 01:15:22.000000600</td>\n",
       "      <td>-52.000000</td>\n",
       "      <td>-1340.648410</td>\n",
       "      <td>-74.015515</td>\n",
       "      <td>-3356.666300</td>\n",
       "      <td>-881.985513</td>\n",
       "      <td>0.000000</td>\n",
       "      <td>0.000000</td>\n",
       "      <td>0.000000</td>\n",
       "    </tr>\n",
       "    <tr>\n",
       "      <th>25%</th>\n",
       "      <td>2010-08-25 08:19:54</td>\n",
       "      <td>6.000000</td>\n",
       "      <td>-73.992065</td>\n",
       "      <td>40.734796</td>\n",
       "      <td>-73.991407</td>\n",
       "      <td>40.733823</td>\n",
       "      <td>1.000000</td>\n",
       "      <td>1.000000</td>\n",
       "      <td>1.554543</td>\n",
       "    </tr>\n",
       "    <tr>\n",
       "      <th>50%</th>\n",
       "      <td>2012-03-21 20:44:25</td>\n",
       "      <td>8.500000</td>\n",
       "      <td>-73.981823</td>\n",
       "      <td>40.752592</td>\n",
       "      <td>-73.980093</td>\n",
       "      <td>40.753042</td>\n",
       "      <td>1.000000</td>\n",
       "      <td>3.000000</td>\n",
       "      <td>2.728282</td>\n",
       "    </tr>\n",
       "    <tr>\n",
       "      <th>75%</th>\n",
       "      <td>2013-10-19 02:21:09.000000512</td>\n",
       "      <td>12.500000</td>\n",
       "      <td>-73.967154</td>\n",
       "      <td>40.767158</td>\n",
       "      <td>-73.963658</td>\n",
       "      <td>40.768001</td>\n",
       "      <td>2.000000</td>\n",
       "      <td>5.000000</td>\n",
       "      <td>5.004448</td>\n",
       "    </tr>\n",
       "    <tr>\n",
       "      <th>max</th>\n",
       "      <td>2015-06-30 23:40:39.000000100</td>\n",
       "      <td>499.000000</td>\n",
       "      <td>57.418457</td>\n",
       "      <td>1644.421482</td>\n",
       "      <td>1153.572603</td>\n",
       "      <td>872.697628</td>\n",
       "      <td>208.000000</td>\n",
       "      <td>6.000000</td>\n",
       "      <td>334487.284561</td>\n",
       "    </tr>\n",
       "    <tr>\n",
       "      <th>std</th>\n",
       "      <td>NaN</td>\n",
       "      <td>9.901760</td>\n",
       "      <td>11.437815</td>\n",
       "      <td>7.720558</td>\n",
       "      <td>13.117408</td>\n",
       "      <td>6.794829</td>\n",
       "      <td>1.385995</td>\n",
       "      <td>1.946946</td>\n",
       "      <td>1118.641750</td>\n",
       "    </tr>\n",
       "  </tbody>\n",
       "</table>\n",
       "</div>"
      ],
      "text/plain": [
       "                                 key    fare_amount  pickup_longitude  \\\n",
       "count                         199999  199999.000000     199999.000000   \n",
       "mean   2012-03-22 14:58:56.889214720      11.359892        -72.527631   \n",
       "min    2009-01-01 01:15:22.000000600     -52.000000      -1340.648410   \n",
       "25%              2010-08-25 08:19:54       6.000000        -73.992065   \n",
       "50%              2012-03-21 20:44:25       8.500000        -73.981823   \n",
       "75%    2013-10-19 02:21:09.000000512      12.500000        -73.967154   \n",
       "max    2015-06-30 23:40:39.000000100     499.000000         57.418457   \n",
       "std                              NaN       9.901760         11.437815   \n",
       "\n",
       "       pickup_latitude  dropoff_longitude  dropoff_latitude  passenger_count  \\\n",
       "count    199999.000000      199999.000000     199999.000000    199999.000000   \n",
       "mean         39.935881         -72.525292         39.923890         1.684543   \n",
       "min         -74.015515       -3356.666300       -881.985513         0.000000   \n",
       "25%          40.734796         -73.991407         40.733823         1.000000   \n",
       "50%          40.752592         -73.980093         40.753042         1.000000   \n",
       "75%          40.767158         -73.963658         40.768001         2.000000   \n",
       "max        1644.421482        1153.572603        872.697628       208.000000   \n",
       "std           7.720558          13.117408          6.794829         1.385995   \n",
       "\n",
       "             weekday  manhattan_distance_km  \n",
       "count  199999.000000          199999.000000  \n",
       "mean        3.048435              31.054609  \n",
       "min         0.000000               0.000000  \n",
       "25%         1.000000               1.554543  \n",
       "50%         3.000000               2.728282  \n",
       "75%         5.000000               5.004448  \n",
       "max         6.000000          334487.284561  \n",
       "std         1.946946            1118.641750  "
      ]
     },
     "execution_count": 17,
     "metadata": {},
     "output_type": "execute_result"
    }
   ],
   "source": [
    "df.describe()"
   ]
  },
  {
   "cell_type": "code",
   "execution_count": 23,
   "metadata": {},
   "outputs": [],
   "source": [
    "nyc_latitude_range = (40.5, 41.0)\n",
    "nyc_longitude_range = (-74.5, -73.5)"
   ]
  },
  {
   "cell_type": "code",
   "execution_count": 27,
   "metadata": {},
   "outputs": [],
   "source": [
    "uber_new_set = df[\n",
    "    (df['pickup_latitude'].between(nyc_latitude_range[0], nyc_latitude_range[1])) &\n",
    "    (df['pickup_longitude'].between(nyc_longitude_range[0], nyc_longitude_range[1])) &\n",
    "    (df['dropoff_latitude'].between(nyc_latitude_range[0], nyc_latitude_range[1])) &\n",
    "    (df['dropoff_longitude'].between(nyc_longitude_range[0], nyc_longitude_range[1]))\n",
    "]\n"
   ]
  },
  {
   "cell_type": "code",
   "execution_count": 28,
   "metadata": {},
   "outputs": [
    {
     "data": {
      "text/plain": [
       "(195660, 9)"
      ]
     },
     "execution_count": 28,
     "metadata": {},
     "output_type": "execute_result"
    }
   ],
   "source": [
    "uber_new_set.shape"
   ]
  },
  {
   "cell_type": "code",
   "execution_count": 30,
   "metadata": {},
   "outputs": [
    {
     "data": {
      "text/html": [
       "<div>\n",
       "<style scoped>\n",
       "    .dataframe tbody tr th:only-of-type {\n",
       "        vertical-align: middle;\n",
       "    }\n",
       "\n",
       "    .dataframe tbody tr th {\n",
       "        vertical-align: top;\n",
       "    }\n",
       "\n",
       "    .dataframe thead th {\n",
       "        text-align: right;\n",
       "    }\n",
       "</style>\n",
       "<table border=\"1\" class=\"dataframe\">\n",
       "  <thead>\n",
       "    <tr style=\"text-align: right;\">\n",
       "      <th></th>\n",
       "      <th>key</th>\n",
       "      <th>fare_amount</th>\n",
       "      <th>pickup_longitude</th>\n",
       "      <th>pickup_latitude</th>\n",
       "      <th>dropoff_longitude</th>\n",
       "      <th>dropoff_latitude</th>\n",
       "      <th>passenger_count</th>\n",
       "      <th>weekday</th>\n",
       "      <th>manhattan_distance_km</th>\n",
       "    </tr>\n",
       "  </thead>\n",
       "  <tbody>\n",
       "    <tr>\n",
       "      <th>count</th>\n",
       "      <td>195660</td>\n",
       "      <td>195660.000000</td>\n",
       "      <td>195660.000000</td>\n",
       "      <td>195660.000000</td>\n",
       "      <td>195660.000000</td>\n",
       "      <td>195660.000000</td>\n",
       "      <td>195660.000000</td>\n",
       "      <td>195660.000000</td>\n",
       "      <td>195660.000000</td>\n",
       "    </tr>\n",
       "    <tr>\n",
       "      <th>mean</th>\n",
       "      <td>2012-03-21 21:32:08.454927104</td>\n",
       "      <td>11.327179</td>\n",
       "      <td>-73.975454</td>\n",
       "      <td>40.750785</td>\n",
       "      <td>-73.974498</td>\n",
       "      <td>40.751080</td>\n",
       "      <td>1.685015</td>\n",
       "      <td>3.048262</td>\n",
       "      <td>4.284325</td>\n",
       "    </tr>\n",
       "    <tr>\n",
       "      <th>min</th>\n",
       "      <td>2009-01-01 01:15:22.000000600</td>\n",
       "      <td>-52.000000</td>\n",
       "      <td>-74.403080</td>\n",
       "      <td>40.508697</td>\n",
       "      <td>-74.449079</td>\n",
       "      <td>40.510800</td>\n",
       "      <td>0.000000</td>\n",
       "      <td>0.000000</td>\n",
       "      <td>0.000000</td>\n",
       "    </tr>\n",
       "    <tr>\n",
       "      <th>25%</th>\n",
       "      <td>2010-08-21 17:28:25.500000512</td>\n",
       "      <td>6.000000</td>\n",
       "      <td>-73.992277</td>\n",
       "      <td>40.736457</td>\n",
       "      <td>-73.991600</td>\n",
       "      <td>40.735329</td>\n",
       "      <td>1.000000</td>\n",
       "      <td>1.000000</td>\n",
       "      <td>1.607409</td>\n",
       "    </tr>\n",
       "    <tr>\n",
       "      <th>50%</th>\n",
       "      <td>2012-03-21 10:50:30.000000256</td>\n",
       "      <td>8.500000</td>\n",
       "      <td>-73.982115</td>\n",
       "      <td>40.753300</td>\n",
       "      <td>-73.980547</td>\n",
       "      <td>40.753734</td>\n",
       "      <td>1.000000</td>\n",
       "      <td>3.000000</td>\n",
       "      <td>2.775261</td>\n",
       "    </tr>\n",
       "    <tr>\n",
       "      <th>75%</th>\n",
       "      <td>2013-10-19 21:01:07.250000384</td>\n",
       "      <td>12.500000</td>\n",
       "      <td>-73.968388</td>\n",
       "      <td>40.767520</td>\n",
       "      <td>-73.965427</td>\n",
       "      <td>40.768314</td>\n",
       "      <td>2.000000</td>\n",
       "      <td>5.000000</td>\n",
       "      <td>5.048026</td>\n",
       "    </tr>\n",
       "    <tr>\n",
       "      <th>max</th>\n",
       "      <td>2015-06-30 23:40:39.000000100</td>\n",
       "      <td>499.000000</td>\n",
       "      <td>-73.506178</td>\n",
       "      <td>40.991651</td>\n",
       "      <td>-73.515512</td>\n",
       "      <td>40.996788</td>\n",
       "      <td>208.000000</td>\n",
       "      <td>6.000000</td>\n",
       "      <td>77.984046</td>\n",
       "    </tr>\n",
       "    <tr>\n",
       "      <th>std</th>\n",
       "      <td>NaN</td>\n",
       "      <td>9.699879</td>\n",
       "      <td>0.034956</td>\n",
       "      <td>0.027053</td>\n",
       "      <td>0.034932</td>\n",
       "      <td>0.030866</td>\n",
       "      <td>1.388011</td>\n",
       "      <td>1.947183</td>\n",
       "      <td>4.755369</td>\n",
       "    </tr>\n",
       "  </tbody>\n",
       "</table>\n",
       "</div>"
      ],
      "text/plain": [
       "                                 key    fare_amount  pickup_longitude  \\\n",
       "count                         195660  195660.000000     195660.000000   \n",
       "mean   2012-03-21 21:32:08.454927104      11.327179        -73.975454   \n",
       "min    2009-01-01 01:15:22.000000600     -52.000000        -74.403080   \n",
       "25%    2010-08-21 17:28:25.500000512       6.000000        -73.992277   \n",
       "50%    2012-03-21 10:50:30.000000256       8.500000        -73.982115   \n",
       "75%    2013-10-19 21:01:07.250000384      12.500000        -73.968388   \n",
       "max    2015-06-30 23:40:39.000000100     499.000000        -73.506178   \n",
       "std                              NaN       9.699879          0.034956   \n",
       "\n",
       "       pickup_latitude  dropoff_longitude  dropoff_latitude  passenger_count  \\\n",
       "count    195660.000000      195660.000000     195660.000000    195660.000000   \n",
       "mean         40.750785         -73.974498         40.751080         1.685015   \n",
       "min          40.508697         -74.449079         40.510800         0.000000   \n",
       "25%          40.736457         -73.991600         40.735329         1.000000   \n",
       "50%          40.753300         -73.980547         40.753734         1.000000   \n",
       "75%          40.767520         -73.965427         40.768314         2.000000   \n",
       "max          40.991651         -73.515512         40.996788       208.000000   \n",
       "std           0.027053           0.034932          0.030866         1.388011   \n",
       "\n",
       "             weekday  manhattan_distance_km  \n",
       "count  195660.000000          195660.000000  \n",
       "mean        3.048262               4.284325  \n",
       "min         0.000000               0.000000  \n",
       "25%         1.000000               1.607409  \n",
       "50%         3.000000               2.775261  \n",
       "75%         5.000000               5.048026  \n",
       "max         6.000000              77.984046  \n",
       "std         1.947183               4.755369  "
      ]
     },
     "execution_count": 30,
     "metadata": {},
     "output_type": "execute_result"
    }
   ],
   "source": [
    "uber_new_set.describe()"
   ]
  },
  {
   "cell_type": "code",
   "execution_count": 31,
   "metadata": {},
   "outputs": [],
   "source": [
    "def detect_outliers_iqr(df, column_name, logical_conditions):\n",
    "    filtered_df = df. query(logical_conditions)\n",
    "    Q1 = filtered_df[column_name]. quantile(0.25)\n",
    "    Q3 = filtered_df[column_name]. quantile (0.75)\n",
    "    IQR = Q3 - Q1\n",
    "\n",
    "    lower_bound = Q1 - 1.5 * IQR\n",
    "    upper_bound = Q3 + 1.5 * IQR\n",
    "\n",
    "    outliers = filtered_df[(filtered_df[column_name] < lower_bound) | (filtered_df[column_name] > upper_bound)]\n",
    "\n",
    "    return lower_bound, upper_bound, outliers"
   ]
  },
  {
   "cell_type": "code",
   "execution_count": 34,
   "metadata": {},
   "outputs": [],
   "source": [
    "def uber_boxplot(df):\n",
    "    plt. figure (figsize=(18, 5))\n",
    "\n",
    "    plt. subplot (1, 3, 1)\n",
    "    sns. boxplot (data=df, y=\"fare_amount\")\n",
    "    plt.title('Fare Amount Boxplot')\n",
    "    plt.ylabel( 'Fare Amount')\n",
    "\n",
    "    plt. subplot(1, 3, 2)\n",
    "    sns.boxplot(data=df, y='manhattan_distance_km')\n",
    "    plt.title( 'Manhattan Distance Boxplot')\n",
    "    plt.ylabel( 'Manhattan Distance (km)')\n",
    "\n",
    "    plt. tight_layout()\n",
    "    plt. show()\n"
   ]
  },
  {
   "cell_type": "code",
   "execution_count": 35,
   "metadata": {},
   "outputs": [
    {
     "data": {
      "image/png": "[encoded data removed]",
      "text/plain": [
       "<Figure size 1800x500 with 2 Axes>"
      ]
     },
     "metadata": {},
     "output_type": "display_data"
    }
   ],
   "source": [
    "uber_boxplot(uber_new_set)"
   ]
  },
  {
   "cell_type": "code",
   "execution_count": 36,
   "metadata": {},
   "outputs": [
    {
     "name": "stdout",
     "output_type": "stream",
     "text": [
      "Fare Amount Bounds: (-3.75, 22.25), Outliers Detected: 16709\n"
     ]
    }
   ],
   "source": [
    "# Detect outliers for fare_amount\n",
    "fare_lower, fare_upper, fare_outliers = detect_outliers_iqr( uber_new_set, 'fare_amount', 'fare_amount>0')\n",
    "                                                            \n",
    "print(f\"Fare Amount Bounds: ({fare_lower}, {fare_upper}), Outliers Detected: {fare_outliers.shape[0]}\")"
   ]
  },
  {
   "cell_type": "code",
   "execution_count": 37,
   "metadata": {},
   "outputs": [
    {
     "name": "stdout",
     "output_type": "stream",
     "text": [
      "Manhattan Distance Bounds: (-3.40938650000151, 10.794937500000408), Outliers Detected: 13521\n"
     ]
    }
   ],
   "source": [
    "# Detect outliers for manhattan_distance_km\n",
    "distance_lower, distance_upper, distance_outliers = detect_outliers_iqr(uber_new_set, 'manhattan_distance_km', 'manhattan_distance_km > 1')\n",
    "print(f\"Manhattan Distance Bounds: ({distance_lower}, {distance_upper}), Outliers Detected: {distance_outliers.shape[0]}\")\n"
   ]
  },
  {
   "cell_type": "code",
   "execution_count": 39,
   "metadata": {},
   "outputs": [
    {
     "name": "stdout",
     "output_type": "stream",
     "text": [
      "Passenger Count Bounds: (-0.5, 3.5), Outliers Detected: 22079\n"
     ]
    }
   ],
   "source": [
    "# Detect outliers for passenger_count\n",
    "passenger_lower, passenger_upper, passenger_outliers = detect_outliers_iqr(uber_new_set, 'passenger_count', '(passenger_count > 0) & (passenger_count <= 6)')\n",
    "print(f\"Passenger Count Bounds: ({passenger_lower}, {passenger_upper}), Outliers Detected: {passenger_outliers.shape[0]}\")"
   ]
  },
  {
   "cell_type": "code",
   "execution_count": 40,
   "metadata": {},
   "outputs": [
    {
     "data": {
      "text/plain": [
       "(139260, 9)"
      ]
     },
     "execution_count": 40,
     "metadata": {},
     "output_type": "execute_result"
    }
   ],
   "source": [
    "uber_cleaned = uber_new_set[((uber_new_set['fare_amount'] > 0) & (uber_new_set['fare_amount'] < fare_upper)) & ((uber_new_set[ 'manhattan_distance_km'] < distance_upper) & (uber_new_set['manhattan_distance_km'] > 1)) & ((uber_new_set['passenger_count'] > 0) & (uber_new_set['passenger_count'] < passenger_upper))]\n",
    "uber_cleaned.shape"
   ]
  },
  {
   "cell_type": "code",
   "execution_count": 42,
   "metadata": {},
   "outputs": [
    {
     "data": {
      "text/html": [
       "<div>\n",
       "<style scoped>\n",
       "    .dataframe tbody tr th:only-of-type {\n",
       "        vertical-align: middle;\n",
       "    }\n",
       "\n",
       "    .dataframe tbody tr th {\n",
       "        vertical-align: top;\n",
       "    }\n",
       "\n",
       "    .dataframe thead th {\n",
       "        text-align: right;\n",
       "    }\n",
       "</style>\n",
       "<table border=\"1\" class=\"dataframe\">\n",
       "  <thead>\n",
       "    <tr style=\"text-align: right;\">\n",
       "      <th></th>\n",
       "      <th>key</th>\n",
       "      <th>fare_amount</th>\n",
       "      <th>pickup_longitude</th>\n",
       "      <th>pickup_latitude</th>\n",
       "      <th>dropoff_longitude</th>\n",
       "      <th>dropoff_latitude</th>\n",
       "      <th>passenger_count</th>\n",
       "      <th>weekday</th>\n",
       "      <th>manhattan_distance_km</th>\n",
       "    </tr>\n",
       "  </thead>\n",
       "  <tbody>\n",
       "    <tr>\n",
       "      <th>count</th>\n",
       "      <td>139260</td>\n",
       "      <td>139260.000000</td>\n",
       "      <td>139260.000000</td>\n",
       "      <td>139260.000000</td>\n",
       "      <td>139260.000000</td>\n",
       "      <td>139260.000000</td>\n",
       "      <td>139260.000000</td>\n",
       "      <td>139260.000000</td>\n",
       "      <td>139260.000000</td>\n",
       "    </tr>\n",
       "    <tr>\n",
       "      <th>mean</th>\n",
       "      <td>2012-03-12 10:35:49.690076672</td>\n",
       "      <td>9.264216</td>\n",
       "      <td>-73.980550</td>\n",
       "      <td>40.752061</td>\n",
       "      <td>-73.978821</td>\n",
       "      <td>40.752103</td>\n",
       "      <td>1.267801</td>\n",
       "      <td>3.044219</td>\n",
       "      <td>3.429110</td>\n",
       "    </tr>\n",
       "    <tr>\n",
       "      <th>min</th>\n",
       "      <td>2009-01-01 01:15:22.000000600</td>\n",
       "      <td>0.010000</td>\n",
       "      <td>-74.271207</td>\n",
       "      <td>40.581779</td>\n",
       "      <td>-74.299372</td>\n",
       "      <td>40.579462</td>\n",
       "      <td>1.000000</td>\n",
       "      <td>0.000000</td>\n",
       "      <td>1.000018</td>\n",
       "    </tr>\n",
       "    <tr>\n",
       "      <th>25%</th>\n",
       "      <td>2010-08-10 03:50:09.750000640</td>\n",
       "      <td>6.100000</td>\n",
       "      <td>-73.992665</td>\n",
       "      <td>40.737207</td>\n",
       "      <td>-73.991918</td>\n",
       "      <td>40.736905</td>\n",
       "      <td>1.000000</td>\n",
       "      <td>1.000000</td>\n",
       "      <td>1.818651</td>\n",
       "    </tr>\n",
       "    <tr>\n",
       "      <th>50%</th>\n",
       "      <td>2012-03-09 08:03:50</td>\n",
       "      <td>8.500000</td>\n",
       "      <td>-73.982621</td>\n",
       "      <td>40.753001</td>\n",
       "      <td>-73.981324</td>\n",
       "      <td>40.753681</td>\n",
       "      <td>1.000000</td>\n",
       "      <td>3.000000</td>\n",
       "      <td>2.797221</td>\n",
       "    </tr>\n",
       "    <tr>\n",
       "      <th>75%</th>\n",
       "      <td>2013-10-08 19:07:18.500000256</td>\n",
       "      <td>11.500000</td>\n",
       "      <td>-73.970701</td>\n",
       "      <td>40.766765</td>\n",
       "      <td>-73.968513</td>\n",
       "      <td>40.767593</td>\n",
       "      <td>1.000000</td>\n",
       "      <td>5.000000</td>\n",
       "      <td>4.451294</td>\n",
       "    </tr>\n",
       "    <tr>\n",
       "      <th>max</th>\n",
       "      <td>2015-06-30 23:33:33.000000200</td>\n",
       "      <td>22.200000</td>\n",
       "      <td>-73.506178</td>\n",
       "      <td>40.966745</td>\n",
       "      <td>-73.515512</td>\n",
       "      <td>40.996788</td>\n",
       "      <td>3.000000</td>\n",
       "      <td>6.000000</td>\n",
       "      <td>10.794304</td>\n",
       "    </tr>\n",
       "    <tr>\n",
       "      <th>std</th>\n",
       "      <td>NaN</td>\n",
       "      <td>3.925635</td>\n",
       "      <td>0.020406</td>\n",
       "      <td>0.023318</td>\n",
       "      <td>0.021820</td>\n",
       "      <td>0.025723</td>\n",
       "      <td>0.545706</td>\n",
       "      <td>1.942646</td>\n",
       "      <td>2.101865</td>\n",
       "    </tr>\n",
       "  </tbody>\n",
       "</table>\n",
       "</div>"
      ],
      "text/plain": [
       "                                 key    fare_amount  pickup_longitude  \\\n",
       "count                         139260  139260.000000     139260.000000   \n",
       "mean   2012-03-12 10:35:49.690076672       9.264216        -73.980550   \n",
       "min    2009-01-01 01:15:22.000000600       0.010000        -74.271207   \n",
       "25%    2010-08-10 03:50:09.750000640       6.100000        -73.992665   \n",
       "50%              2012-03-09 08:03:50       8.500000        -73.982621   \n",
       "75%    2013-10-08 19:07:18.500000256      11.500000        -73.970701   \n",
       "max    2015-06-30 23:33:33.000000200      22.200000        -73.506178   \n",
       "std                              NaN       3.925635          0.020406   \n",
       "\n",
       "       pickup_latitude  dropoff_longitude  dropoff_latitude  passenger_count  \\\n",
       "count    139260.000000      139260.000000     139260.000000    139260.000000   \n",
       "mean         40.752061         -73.978821         40.752103         1.267801   \n",
       "min          40.581779         -74.299372         40.579462         1.000000   \n",
       "25%          40.737207         -73.991918         40.736905         1.000000   \n",
       "50%          40.753001         -73.981324         40.753681         1.000000   \n",
       "75%          40.766765         -73.968513         40.767593         1.000000   \n",
       "max          40.966745         -73.515512         40.996788         3.000000   \n",
       "std           0.023318           0.021820          0.025723         0.545706   \n",
       "\n",
       "             weekday  manhattan_distance_km  \n",
       "count  139260.000000          139260.000000  \n",
       "mean        3.044219               3.429110  \n",
       "min         0.000000               1.000018  \n",
       "25%         1.000000               1.818651  \n",
       "50%         3.000000               2.797221  \n",
       "75%         5.000000               4.451294  \n",
       "max         6.000000              10.794304  \n",
       "std         1.942646               2.101865  "
      ]
     },
     "execution_count": 42,
     "metadata": {},
     "output_type": "execute_result"
    }
   ],
   "source": [
    "uber_cleaned.describe()"
   ]
  },
  {
   "cell_type": "code",
   "execution_count": 43,
   "metadata": {},
   "outputs": [
    {
     "data": {
      "image/png": "[encoded data removed]",
      "text/plain": [
       "<Figure size 1800x500 with 2 Axes>"
      ]
     },
     "metadata": {},
     "output_type": "display_data"
    }
   ],
   "source": [
    "uber_boxplot(uber_cleaned)"
   ]
  },
  {
   "cell_type": "code",
   "execution_count": 47,
   "metadata": {},
   "outputs": [
    {
     "data": {
      "image/png": "[encoded data removed]",
      "text/plain": [
       "<Figure size 1000x800 with 2 Axes>"
      ]
     },
     "metadata": {},
     "output_type": "display_data"
    }
   ],
   "source": [
    "# Calculate the correlation matrix for the filtered DataFrame\n",
    "correlation_matrix_filtered = uber_cleaned.corr()\n",
    "\n",
    "# Visualize the correlation matrix using a heatmap\n",
    "plt.figure (figsize=(10, 8))\n",
    "sns.heatmap(correlation_matrix_filtered, annot=True, fmt=\".2f\", square=True)\n",
    "plt.title('Correlation Matrix of Filtered Data)')\n",
    "plt.show()"
   ]
  },
  {
   "cell_type": "code",
   "execution_count": 48,
   "metadata": {},
   "outputs": [],
   "source": [
    "#modelling\n",
    "X= uber_cleaned[['manhattan_distance_km' ]]\n",
    "y = uber_cleaned[ 'fare_amount' ]\n",
    "\n",
    "X_train, X_test, y_train, y_test = train_test_split(X, y, test_size=0.2, random_state=42)"
   ]
  },
  {
   "cell_type": "code",
   "execution_count": null,
   "metadata": {},
   "outputs": [
    {
     "name": "stdout",
     "output_type": "stream",
     "text": [
      "Linear Regression RMSE: 2.39, R^2: 0.63\n"
     ]
    },
    {
     "name": "stderr",
     "output_type": "stream",
     "text": [
      "/Library/Frameworks/Python.framework/Versions/3.12/lib/python3.12/site-packages/sklearn/metrics/_regression.py:483: FutureWarning: 'squared' is deprecated in version 1.4 and will be removed in 1.6. To calculate the root mean squared error, use the function'root_mean_squared_error'.\n",
      "  warnings.warn(\n"
     ]
    }
   ],
   "source": [
    "# Create a Linear Regression model\n",
    "linear_model = LinearRegression()\n",
    "linear_model.fit(X_train, y_train)\n",
    "\n",
    "# Make predictions\n",
    "y_pred_linear = linear_model.predict(X_test)\n",
    "# Evaluate the model\n",
    "linear_rmse = mean_squared_error(y_test, y_pred_linear, squared=False)\n",
    "linear_r2 = r2_score (y_test, y_pred_linear)\n",
    "print(f\"Linear Regression RMSE: {linear_rmse:.2f}, R^2: {linear_r2:.2f}\")"
   ]
  },
  {
   "cell_type": "code",
   "execution_count": 50,
   "metadata": {},
   "outputs": [
    {
     "name": "stdout",
     "output_type": "stream",
     "text": [
      "Ridge Regression RMSE: 2.39, R^2:  0.625717\n"
     ]
    },
    {
     "name": "stderr",
     "output_type": "stream",
     "text": [
      "/Library/Frameworks/Python.framework/Versions/3.12/lib/python3.12/site-packages/sklearn/metrics/_regression.py:483: FutureWarning: 'squared' is deprecated in version 1.4 and will be removed in 1.6. To calculate the root mean squared error, use the function'root_mean_squared_error'.\n",
      "  warnings.warn(\n"
     ]
    }
   ],
   "source": [
    "# Create a Ridge Regression model with a regularization parameter (alpha)\n",
    "\n",
    "ridge_model = Ridge(alpha=1.0)\n",
    "ridge_model. fit(X_train, y_train)\n",
    "\n",
    "# Make predictions\n",
    "\n",
    "y_pred_ridge = ridge_model.predict(X_test)\n",
    "\n",
    "# Evaluate the model\n",
    "\n",
    "ridge_rmse = mean_squared_error (y_test, y_pred_ridge, squared=False)\n",
    "\n",
    "ridge_r2 = r2_score(y_test, y_pred_ridge)\n",
    "\n",
    "print(f\"Ridge Regression RMSE: {ridge_rmse:.2f}, R^2: {ridge_r2: 2f}\")\n"
   ]
  },
  {
   "cell_type": "code",
   "execution_count": 51,
   "metadata": {},
   "outputs": [
    {
     "name": "stdout",
     "output_type": "stream",
     "text": [
      "Lasso Regression RMSE: 2.39, R^2: 0.63\n"
     ]
    },
    {
     "name": "stderr",
     "output_type": "stream",
     "text": [
      "/Library/Frameworks/Python.framework/Versions/3.12/lib/python3.12/site-packages/sklearn/metrics/_regression.py:483: FutureWarning: 'squared' is deprecated in version 1.4 and will be removed in 1.6. To calculate the root mean squared error, use the function'root_mean_squared_error'.\n",
      "  warnings.warn(\n"
     ]
    }
   ],
   "source": [
    "# Create a Lasso Regression model with a regularization parameter (alpha)\n",
    "lasso_model = Lasso(alpha=0.1)\n",
    "lasso_model.fit(X_train, y_train)\n",
    "\n",
    "y_pred_lasso = lasso_model.predict(X_test)\n",
    "\n",
    "# Evaluate the model\n",
    "lasso_rmse = mean_squared_error(y_test, y_pred_lasso, squared=False)\n",
    "lasso_r2 = r2_score(y_test, y_pred_lasso)\n",
    "print(f\"Lasso Regression RMSE: {lasso_rmse:.2f}, R^2: {lasso_r2:.2f}\")"
   ]
  },
  {
   "cell_type": "code",
   "execution_count": 52,
   "metadata": {},
   "outputs": [
    {
     "name": "stdout",
     "output_type": "stream",
     "text": [
      "               Model      RMSE       R^2\n",
      "0  Linear Regression  2.390065  0.625717\n",
      "1   Ridge Regression  2.390065  0.625717\n",
      "2   Lasso Regression  2.390176  0.625682\n"
     ]
    }
   ],
   "source": [
    "# Summary of the results\n",
    "results = pd. DataFrame ({\n",
    "'Model': ['Linear Regression', 'Ridge Regression'\n",
    ", 'Lasso Regression'],\n",
    "'RMSE': [linear_rmse, ridge_rmse, lasso_rmse],\n",
    "'R^2': [linear_r2, ridge_r2, lasso_r2]\n",
    "})\n",
    "print (results)"
   ]
  },
  {
   "cell_type": "code",
   "execution_count": null,
   "metadata": {},
   "outputs": [],
   "source": []
  }
 ],
 "metadata": {
  "kernelspec": {
   "display_name": "Python 3",
   "language": "python",
   "name": "python3"
  },
  "language_info": {
   "codemirror_mode": {
    "name": "ipython",
    "version": 3
   },
   "file_extension": ".py",
   "mimetype": "text/x-python",
   "name": "python",
   "nbconvert_exporter": "python",
   "pygments_lexer": "ipython3",
   "version": "3.12.4"
  }
 },
 "nbformat": 4,
 "nbformat_minor": 2
}
