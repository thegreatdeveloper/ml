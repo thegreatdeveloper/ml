{
 "cells": [
  {
   "cell_type": "code",
   "execution_count": null,
   "id": "0448fe8f",
   "metadata": {},
   "outputs": [],
   "source": [
    "import numpy as np\n",
    "import pandas as pd\n",
    "from sklearn.model_selection import train_test_split\n",
    "from sklearn.preprocessing import LabelEncoder\n",
    "from sklearn.ensemble import RandomForestClassifier\n",
    "from sklearn.metrics import accuracy_score, classification_report, confusion_matrix"
   ]
  },
  {
   "cell_type": "code",
   "execution_count": null,
   "id": "0f267054",
   "metadata": {},
   "outputs": [],
   "source": [
    "\n",
    "data = pd.read_csv(\"car_evaluation.csv\")\n",
    "data.head(3)"
   ]
  },
  {
   "cell_type": "code",
   "execution_count": null,
   "id": "6f252126",
   "metadata": {},
   "outputs": [],
   "source": [
    "\n",
    "data = data.apply(LabelEncoder().fit_transform)"
   ]
  },
  {
   "cell_type": "code",
   "execution_count": null,
   "id": "d16d0256",
   "metadata": {},
   "outputs": [],
   "source": [
    "\n",
    "X = data.iloc[:, :-1] \n",
    "y = data.iloc[:, -1]   "
   ]
  },
  {
   "cell_type": "code",
   "execution_count": null,
   "id": "6c07ebcc",
   "metadata": {},
   "outputs": [],
   "source": [
    "\n",
    "X_train, X_test, y_train, y_test = train_test_split(X, y, test_size=0.2, random_state=42)"
   ]
  },
  {
   "cell_type": "code",
   "execution_count": null,
   "id": "7edf0458",
   "metadata": {},
   "outputs": [],
   "source": [
    "\n",
    "rf_classifier = RandomForestClassifier(n_estimators=100, random_state=42)"
   ]
  },
  {
   "cell_type": "code",
   "execution_count": null,
   "id": "c0c5d69a",
   "metadata": {},
   "outputs": [],
   "source": [
    "\n",
    "rf_classifier.fit(X_train, y_train)"
   ]
  },
  {
   "cell_type": "code",
   "execution_count": null,
   "id": "431ec891",
   "metadata": {},
   "outputs": [],
   "source": [
    "\n",
    "y_pred = rf_classifier.predict(X_test)"
   ]
  },
  {
   "cell_type": "code",
   "execution_count": null,
   "id": "aba88ec6",
   "metadata": {},
   "outputs": [],
   "source": [
    "\n",
    "accuracy = accuracy_score(y_test, y_pred)\n",
    "confusion = confusion_matrix(y_test, y_pred)\n",
    "classification_rep = classification_report(y_test, y_pred)"
   ]
  },
  {
   "cell_type": "code",
   "execution_count": null,
   "id": "3ed63960",
   "metadata": {},
   "outputs": [],
   "source": [
    "print(f\"Accuracy: {accuracy}\")\n",
    "print(\"\\nConfusion Matrix:\\n\", confusion)\n",
    "print(\"\\nClassification Report:\\n\", classification_rep)"
   ]
  },
  {
   "cell_type": "code",
   "execution_count": null,
   "id": "b0eec53f",
   "metadata": {},
   "outputs": [],
   "source": [
    "def predict_safety(buying, maint, doors, persons, lug_boot, safety):\n",
    "\n",
    "    feature_dict = {\n",
    "        'buying': {'vhigh': 3, 'high': 0, 'med': 2, 'low': 1},\n",
    "        'maint': {'vhigh': 3, 'high': 0, 'med': 2, 'low': 1},\n",
    "        'doors': {'2': 0, '3': 1, '4': 2, '5more': 3},\n",
    "        'persons': {'2': 0, '4': 1, 'more': 2},\n",
    "        'lug_boot': {'small': 2, 'med': 1, 'big': 0},\n",
    "        'safety': {'low': 1, 'med': 2, 'high': 0}\n",
    "    }\n",
    "\n",
    "    # Convert the input to numerical form\n",
    "    encoded_input = [\n",
    "        feature_dict['buying'][buying],\n",
    "        feature_dict['maint'][maint],\n",
    "        feature_dict['doors'][doors],\n",
    "        feature_dict['persons'][persons],\n",
    "        feature_dict['lug_boot'][lug_boot],\n",
    "        feature_dict['safety'][safety]\n",
    "    ]\n",
    "    \n",
    "    # Reshape match expected format\n",
    "    input_data = np.array(encoded_input).reshape(1, -1)\n",
    "    \n",
    "    # Predict safety \n",
    "    predicted_class = rf_classifier.predict(input_data)\n",
    "    \n",
    "    # Decode the class label\n",
    "    safety_classes = {0: 'unacc', 1: 'acc', 2: 'good', 3: 'very good'}\n",
    "\n",
    "    return safety_classes[predicted_class[0]]\n",
    "\n",
    "\n",
    "\n"
   ]
  },
  {
   "cell_type": "code",
   "execution_count": null,
   "id": "ad502534",
   "metadata": {},
   "outputs": [],
   "source": [
    "buying = 'vhigh' \n",
    "maint = 'high'\n",
    "doors = '4'\n",
    "persons = '4'\n",
    "lug_boot = 'big'\n",
    "safety = 'high'\n",
    "\n",
    "\n",
    "predicted_safety = predict_safety(buying, maint, doors, persons, lug_boot, safety)\n",
    "print(f\"The predicted safety of the car is: {predicted_safety}\")"
   ]
  }
 ],
 "metadata": {
  "kernelspec": {
   "display_name": "Python 3 (ipykernel)",
   "language": "python",
   "name": "python3"
  },
  "language_info": {
   "codemirror_mode": {
    "name": "ipython",
    "version": 3
   },
   "file_extension": ".py",
   "mimetype": "text/x-python",
   "name": "python",
   "nbconvert_exporter": "python",
   "pygments_lexer": "ipython3",
   "version": "3.12.4"
  }
 },
 "nbformat": 4,
 "nbformat_minor": 5
}
